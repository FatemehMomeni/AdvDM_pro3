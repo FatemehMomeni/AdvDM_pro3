{
  "nbformat": 4,
  "nbformat_minor": 0,
  "metadata": {
    "colab": {
      "name": "DM_3.ipynb",
      "provenance": [],
      "collapsed_sections": [],
      "authorship_tag": "ABX9TyMSEQ7ILjt+2F1uDGY7fAyw",
      "include_colab_link": true
    },
    "kernelspec": {
      "name": "python3",
      "display_name": "Python 3"
    },
    "language_info": {
      "name": "python"
    }
  },
  "cells": [
    {
      "cell_type": "markdown",
      "metadata": {
        "id": "view-in-github",
        "colab_type": "text"
      },
      "source": [
        "<a href=\"https://colab.research.google.com/github/FatemehMomeni/AdvDM_pro3/blob/main/DM_3.ipynb\" target=\"_parent\"><img src=\"https://colab.research.google.com/assets/colab-badge.svg\" alt=\"Open In Colab\"/></a>"
      ]
    },
    {
      "cell_type": "markdown",
      "source": [
        "**Mount google drive**"
      ],
      "metadata": {
        "id": "Nx08NqOl7hiA"
      }
    },
    {
      "cell_type": "code",
      "source": [
        "from google.colab import drive\n",
        "\n",
        "drive.mount('/content/gdrive')"
      ],
      "metadata": {
        "colab": {
          "base_uri": "https://localhost:8080/"
        },
        "id": "VQJsqlsy4rLv",
        "outputId": "2486b08f-ec0e-43b6-9283-b8e3dc75aa0f"
      },
      "execution_count": 1,
      "outputs": [
        {
          "output_type": "stream",
          "name": "stdout",
          "text": [
            "Mounted at /content/gdrive\n"
          ]
        }
      ]
    },
    {
      "cell_type": "markdown",
      "source": [
        "**Read test and train datasets**"
      ],
      "metadata": {
        "id": "DwBQacUb7uBZ"
      }
    },
    {
      "cell_type": "code",
      "execution_count": 2,
      "metadata": {
        "id": "Kcm0j4fG249y"
      },
      "outputs": [],
      "source": [
        "import pandas as pd\n",
        "\n",
        "train_dataset = pd.read_csv(\"/content/gdrive/MyDrive/Colab Notebooks/01.train.csv\")\n",
        "test_dataset = pd.read_csv(\"/content/gdrive/MyDrive/Colab Notebooks/02.test.csv\")"
      ]
    },
    {
      "cell_type": "code",
      "source": [
        "# Set width and height to show datasets completely\n",
        "pd.set_option('display.width', 200)\n",
        "pd.set_option('display.max_columns', 10)\n",
        "pd.set_option('display.max_rows', 670)"
      ],
      "metadata": {
        "id": "AGAeomcj_ET2"
      },
      "execution_count": 3,
      "outputs": []
    },
    {
      "cell_type": "markdown",
      "source": [
        "**Columns information**"
      ],
      "metadata": {
        "id": "uZC2hcGn7y9l"
      }
    },
    {
      "cell_type": "code",
      "source": [
        "print(train_dataset.info())"
      ],
      "metadata": {
        "colab": {
          "base_uri": "https://localhost:8080/"
        },
        "id": "kbeVQZ2g73oz",
        "outputId": "e8f16936-77f5-488b-805d-7b9dfe67d02e"
      },
      "execution_count": 4,
      "outputs": [
        {
          "output_type": "stream",
          "name": "stdout",
          "text": [
            "<class 'pandas.core.frame.DataFrame'>\n",
            "RangeIndex: 668 entries, 0 to 667\n",
            "Data columns (total 10 columns):\n",
            " #   Column                     Non-Null Count  Dtype  \n",
            "---  ------                     --------------  -----  \n",
            " 0   Relative_Compactness       668 non-null    float64\n",
            " 1   Surface_Area               668 non-null    float64\n",
            " 2   Wall_Area                  668 non-null    float64\n",
            " 3   Roof_Area                  668 non-null    float64\n",
            " 4   Overall_Height             668 non-null    float64\n",
            " 5   Orientation                668 non-null    int64  \n",
            " 6   Glazing_Area               668 non-null    float64\n",
            " 7   Glazing_Area_Distribution  668 non-null    int64  \n",
            " 8   Heating_Load               668 non-null    float64\n",
            " 9   Cooling_Load               668 non-null    float64\n",
            "dtypes: float64(8), int64(2)\n",
            "memory usage: 52.3 KB\n",
            "None\n"
          ]
        }
      ]
    },
    {
      "cell_type": "markdown",
      "source": [
        "**Check existence of missing values**"
      ],
      "metadata": {
        "id": "TXo-V3si8LwK"
      }
    },
    {
      "cell_type": "code",
      "source": [
        "print('train dataset:\\n\\n',train_dataset.isnull().sum())\n",
        "print('\\ntest dataset:\\n\\n',test_dataset.isnull().sum())"
      ],
      "metadata": {
        "colab": {
          "base_uri": "https://localhost:8080/"
        },
        "id": "qIELGbeG8OB2",
        "outputId": "891e844a-4168-4684-c8b3-f31b455b27d8"
      },
      "execution_count": 5,
      "outputs": [
        {
          "output_type": "stream",
          "name": "stdout",
          "text": [
            "train dataset:\n",
            "\n",
            " Relative_Compactness         0\n",
            "Surface_Area                 0\n",
            "Wall_Area                    0\n",
            "Roof_Area                    0\n",
            "Overall_Height               0\n",
            "Orientation                  0\n",
            "Glazing_Area                 0\n",
            "Glazing_Area_Distribution    0\n",
            "Heating_Load                 0\n",
            "Cooling_Load                 0\n",
            "dtype: int64\n",
            "\n",
            "test dataset:\n",
            "\n",
            " Relative_Compactness         0\n",
            "Surface_Area                 0\n",
            "Wall_Area                    0\n",
            "Roof_Area                    0\n",
            "Overall_Height               0\n",
            "Orientation                  0\n",
            "Glazing_Area                 0\n",
            "Glazing_Area_Distribution    0\n",
            "Heating_Load                 0\n",
            "Cooling_Load                 0\n",
            "dtype: int64\n"
          ]
        }
      ]
    },
    {
      "cell_type": "markdown",
      "source": [
        "**Check outliers by plotting box plots**"
      ],
      "metadata": {
        "id": "Kqb6-keb8orK"
      }
    },
    {
      "cell_type": "code",
      "source": [
        "import matplotlib.pyplot as plt\n",
        "\n",
        "for c in train_dataset.columns:\n",
        "    if c not in ['Heating_Load', 'Cooling_Load']:        \n",
        "        plt.xlabel(c)\n",
        "        plt.boxplot(train_dataset[c])\n",
        "        plt.show()"
      ],
      "metadata": {
        "colab": {
          "base_uri": "https://localhost:8080/",
          "height": 1000
        },
        "id": "OuCj3WZS8rJ-",
        "outputId": "f7dfb59c-bc7c-4082-d9cc-34a3d10da6e2"
      },
      "execution_count": 6,
      "outputs": [
        {
          "output_type": "display_data",
          "data": {
            "text/plain": [
              "<Figure size 432x288 with 1 Axes>"
            ],
            "image/png": "[encoded data removed]"
          },
          "metadata": {
            "needs_background": "light"
          }
        },
        {
          "output_type": "display_data",
          "data": {
            "text/plain": [
              "<Figure size 432x288 with 1 Axes>"
            ],
            "image/png": "[encoded data removed]"
          },
          "metadata": {
            "needs_background": "light"
          }
        },
        {
          "output_type": "display_data",
          "data": {
            "text/plain": [
              "<Figure size 432x288 with 1 Axes>"
            ],
            "image/png": "[encoded data removed]"
          },
          "metadata": {
            "needs_background": "light"
          }
        },
        {
          "output_type": "display_data",
          "data": {
            "text/plain": [
              "<Figure size 432x288 with 1 Axes>"
            ],
            "image/png": "[encoded data removed]"
          },
          "metadata": {
            "needs_background": "light"
          }
        },
        {
          "output_type": "display_data",
          "data": {
            "text/plain": [
              "<Figure size 432x288 with 1 Axes>"
            ],
            "image/png": "[encoded data removed]"
          },
          "metadata": {
            "needs_background": "light"
          }
        },
        {
          "output_type": "display_data",
          "data": {
            "text/plain": [
              "<Figure size 432x288 with 1 Axes>"
            ],
            "image/png": "[encoded data removed]"
          },
          "metadata": {
            "needs_background": "light"
          }
        },
        {
          "output_type": "display_data",
          "data": {
            "text/plain": [
              "<Figure size 432x288 with 1 Axes>"
            ],
            "image/png": "[encoded data removed]"
          },
          "metadata": {
            "needs_background": "light"
          }
        },
        {
          "output_type": "display_data",
          "data": {
            "text/plain": [
              "<Figure size 432x288 with 1 Axes>"
            ],
            "image/png": "[encoded data removed]"
          },
          "metadata": {
            "needs_background": "light"
          }
        }
      ]
    },
    {
      "cell_type": "markdown",
      "source": [
        "**Correlation matrix**"
      ],
      "metadata": {
        "id": "kJf-nJ4u9BRl"
      }
    },
    {
      "cell_type": "code",
      "source": [
        "import numpy as np\n",
        "import seaborn as sns\n",
        "\n",
        "correlation = train_dataset.corr()\n",
        "matrix = np.triu(correlation)  # Getting bottom triangle of correlation matrix\n",
        "plt.figure(figsize=(20,10))\n",
        "sns.heatmap(correlation, annot=True, mask=matrix, cmap='Blues')\n",
        "plt.show()"
      ],
      "metadata": {
        "colab": {
          "base_uri": "https://localhost:8080/",
          "height": 711
        },
        "id": "OiayBHSb9F7w",
        "outputId": "fa594b7c-2658-4b89-9286-c29e1d9d4154"
      },
      "execution_count": 7,
      "outputs": [
        {
          "output_type": "display_data",
          "data": {
            "text/plain": [
              "<Figure size 1440x720 with 2 Axes>"
            ],
            "image/png": "[encoded data removed]"
          },
          "metadata": {
            "needs_background": "light"
          }
        }
      ]
    },
    {
      "cell_type": "markdown",
      "source": [
        "**Delete columns**"
      ],
      "metadata": {
        "id": "uGRPyONx9_1Z"
      }
    },
    {
      "cell_type": "code",
      "source": [
        "reduced_train = train_dataset.drop(axis=1, columns=['Orientation', 'Surface_Area'])\n",
        "reduced_test = test_dataset.drop(axis=1, columns=['Orientation', 'Surface_Area'])\n",
        "\n",
        "print('train dataset:\\n',reduced_train.columns,'\\n\\ntest dataset:\\n',reduced_test.columns)"
      ],
      "metadata": {
        "colab": {
          "base_uri": "https://localhost:8080/"
        },
        "id": "gBaJhtl5-Eqb",
        "outputId": "cdba733a-f906-4525-e86a-425680a59d29"
      },
      "execution_count": 8,
      "outputs": [
        {
          "output_type": "stream",
          "name": "stdout",
          "text": [
            "train dataset:\n",
            " Index(['Relative_Compactness', 'Wall_Area', 'Roof_Area', 'Overall_Height', 'Glazing_Area', 'Glazing_Area_Distribution', 'Heating_Load', 'Cooling_Load'], dtype='object') \n",
            "\n",
            "test dataset:\n",
            " Index(['Relative_Compactness', 'Wall_Area', 'Roof_Area', 'Overall_Height', 'Glazing_Area', 'Glazing_Area_Distribution', 'Heating_Load', 'Cooling_Load'], dtype='object')\n"
          ]
        }
      ]
    },
    {
      "cell_type": "markdown",
      "source": [
        "**Normalization**"
      ],
      "metadata": {
        "id": "Zm09QCMo-JGX"
      }
    },
    {
      "cell_type": "code",
      "source": [
        "processed_train = (reduced_train - reduced_train.min())/(reduced_train.max()-reduced_train.min())\n",
        "processed_test = (reduced_test - reduced_test.min())/(reduced_test.max()-reduced_test.min())\n",
        "\n",
        "print('train dataset:\\n',processed_train.head(),'\\n\\ntest dataset:\\n',processed_test.head())"
      ],
      "metadata": {
        "colab": {
          "base_uri": "https://localhost:8080/"
        },
        "id": "q63ofi2A-LGY",
        "outputId": "f163a992-c93b-48a7-ff83-6cd581467aa9"
      },
      "execution_count": 9,
      "outputs": [
        {
          "output_type": "stream",
          "name": "stdout",
          "text": [
            "train dataset:\n",
            "    Relative_Compactness  Wall_Area  Roof_Area  Overall_Height  Glazing_Area  Glazing_Area_Distribution  Heating_Load  Cooling_Load\n",
            "0              0.388889   1.000000   0.111111             1.0         1.000                        0.2      0.937449      0.771613\n",
            "1              1.000000   0.285714   0.000000             1.0         0.625                        0.2      0.602858      0.495018\n",
            "2              0.333333   0.000000   1.000000             0.0         0.250                        0.2      0.117282      0.068139\n",
            "3              0.777778   0.428571   0.111111             1.0         0.250                        1.0      0.642222      0.509561\n",
            "4              0.666667   0.285714   0.333333             1.0         0.625                        0.6      0.631437      0.470778 \n",
            "\n",
            "test dataset:\n",
            "    Relative_Compactness  Wall_Area  Roof_Area  Overall_Height  Glazing_Area  Glazing_Area_Distribution  Heating_Load  Cooling_Load\n",
            "0              0.000000   0.714286   1.000000             0.0         1.000                        0.6      0.288324      0.160561\n",
            "1              0.111111   0.428571   1.000000             0.0         0.625                        0.2      0.194119      0.145965\n",
            "2              1.000000   0.285714   0.000000             1.0         1.000                        0.6      0.755067      0.615054\n",
            "3              0.472222   0.571429   0.333333             1.0         1.000                        0.8      0.997716      1.000000\n",
            "4              0.055556   0.571429   1.000000             0.0         0.625                        0.8      0.294605      0.242416\n"
          ]
        }
      ]
    },
    {
      "cell_type": "markdown",
      "source": [
        "**Discretization**"
      ],
      "metadata": {
        "id": "vZtiFDHH_wiV"
      }
    },
    {
      "cell_type": "code",
      "source": [
        "equivalence_18 = (18-reduced_train['Heating_Load'].min())/(reduced_train['Heating_Load'].max()-reduced_train['Heating_Load'].min())\n",
        "for c in processed_train.columns:\n",
        "    if c == 'Heating_Load':\n",
        "        processed_train[c] = pd.cut(processed_train[c], [0-0.01, equivalence_18, 1+0.01],labels=['Low_Load', 'High_Load'], right=False)\n",
        "        processed_test[c] = pd.cut(processed_test[c], [0-0.01, equivalence_18, 1+0.01],labels=['Low_Load', 'High_Load'], right=False)\n",
        "    elif c == 'Cooling_Load':\n",
        "        processed_train[c] = pd.cut(processed_train[c], 5, labels=[1, 2, 3, 4, 5], right=False)\n",
        "        processed_test[c] = pd.cut(processed_test[c], 5, labels=[1, 2, 3, 4, 5], right=False)\n",
        "    else:\n",
        "        processed_train[c] = pd.cut(processed_train[c], 4, labels=[1, 2, 3, 4], right=False)\n",
        "        processed_test[c] = pd.cut(processed_test[c], 4, labels=[1, 2, 3, 4], right=False)\n",
        "\n",
        "print('train dataset:\\n',processed_train.head(),'\\n\\ntest dataset:\\n',processed_test.head())"
      ],
      "metadata": {
        "colab": {
          "base_uri": "https://localhost:8080/"
        },
        "id": "_eKsOGBE_zYE",
        "outputId": "abd58af6-599b-4bee-cfbe-bcf261d03269"
      },
      "execution_count": 10,
      "outputs": [
        {
          "output_type": "stream",
          "name": "stdout",
          "text": [
            "train dataset:\n",
            "   Relative_Compactness Wall_Area Roof_Area Overall_Height Glazing_Area Glazing_Area_Distribution Heating_Load Cooling_Load\n",
            "0                    2         4         1              4            4                         1    High_Load            4\n",
            "1                    4         2         1              4            3                         1    High_Load            3\n",
            "2                    2         1         4              1            2                         1     Low_Load            1\n",
            "3                    4         2         1              4            2                         4    High_Load            3\n",
            "4                    3         2         2              4            3                         3    High_Load            3 \n",
            "\n",
            "test dataset:\n",
            "   Relative_Compactness Wall_Area Roof_Area Overall_Height Glazing_Area Glazing_Area_Distribution Heating_Load Cooling_Load\n",
            "0                    1         3         4              1            4                         3     Low_Load            1\n",
            "1                    1         2         4              1            3                         1     Low_Load            1\n",
            "2                    4         2         1              4            4                         3    High_Load            4\n",
            "3                    2         3         2              4            4                         4    High_Load            5\n",
            "4                    1         3         4              1            3                         4     Low_Load            2\n"
          ]
        }
      ]
    },
    {
      "cell_type": "markdown",
      "source": [
        "**Seperate class labels**"
      ],
      "metadata": {
        "id": "a0P1TtUoANzq"
      }
    },
    {
      "cell_type": "code",
      "source": [
        "# train\n",
        "y_train_heat = processed_train['Heating_Load']\n",
        "y_train_cool = processed_train['Cooling_Load']\n",
        "x_train = processed_train.drop(columns=['Heating_Load', 'Cooling_Load'])\n",
        "# test\n",
        "y_test_heat = processed_test['Heating_Load']\n",
        "y_test_cool = processed_test['Cooling_Load']\n",
        "x_test = processed_test.drop(columns=['Heating_Load', 'Cooling_Load'])"
      ],
      "metadata": {
        "id": "Gr0z-iRGASKt"
      },
      "execution_count": 11,
      "outputs": []
    },
    {
      "cell_type": "markdown",
      "source": [
        "**Define a function for printing results**"
      ],
      "metadata": {
        "id": "qEPv2pmqAcX6"
      }
    },
    {
      "cell_type": "code",
      "source": [
        "from sklearn.metrics import confusion_matrix, accuracy_score, precision_recall_fscore_support\n",
        "\n",
        "def output_heat(model):\n",
        "    model.fit(x_train, y_train_heat)    \n",
        "    confusion = confusion_matrix(y_test_heat, model.predict(x_test))\n",
        "    accuracy = accuracy_score(y_test_heat, model.predict(x_test))\n",
        "    error_rate = 1 - accuracy\n",
        "    specificity = confusion[1][1]/(confusion[1][0]+confusion[1][1])\n",
        "    measures = precision_recall_fscore_support(y_test_heat, model.predict(x_test))\n",
        "    \n",
        "    print(confusion)\n",
        "    print('Accuracy of classifier on test set: ', accuracy)\n",
        "    print('Error rate of classifier on test set: ', error_rate) \n",
        "    print('Sensitivity of classifier on test set: ', measures[0][1])\n",
        "    print('Specificity of classifier on test set: ', specificity)    \n",
        "    print('Precision of classifier on test set: ', measures[0][0])\n",
        "    print('Recall of classifier on test set: ', measures[0][1])\n",
        "    print('F-score of classifier on test set: ', measures[1][0])\n",
        "    print('\\n')"
      ],
      "metadata": {
        "id": "IrW0AI_oAiPM"
      },
      "execution_count": 12,
      "outputs": []
    },
    {
      "cell_type": "code",
      "source": [
        "from sklearn.metrics import f1_score\n",
        "\n",
        "def output_cool(model):\n",
        "    model.fit(x_train, y_train_cool)    \n",
        "    measures = precision_recall_fscore_support(y_test_cool, model.predict(x_test))    \n",
        "    \n",
        "    print('Accuracy of classifier on test set: ', accuracy_score(y_test_cool, model.predict(x_test)))\n",
        "    print('Precision of classifier on test set: ', measures[0][0])\n",
        "    print('Recall of classifier on test set: ', measures[0][1])\n",
        "    print('F-score of classifier on test set: ', f1_score(y_test_cool, model.predict(x_test), average='micro', zero_division=1))\n",
        "    print('\\n')"
      ],
      "metadata": {
        "id": "b_ZsmBdVuatl"
      },
      "execution_count": 13,
      "outputs": []
    },
    {
      "cell_type": "markdown",
      "source": [
        "**Models**"
      ],
      "metadata": {
        "id": "HeGUBQI7BJw3"
      }
    },
    {
      "cell_type": "code",
      "source": [
        "from sklearn.ensemble import RandomForestClassifier\n",
        "from sklearn.tree import DecisionTreeClassifier\n",
        "\n",
        "# Decision tree model\n",
        "print(\"Decision tree:\")\n",
        "dt = DecisionTreeClassifier(random_state=0)\n",
        "output_heat(dt)\n",
        "\n",
        "# Random forest model\n",
        "print(\"Random Forest:\")\n",
        "rf = RandomForestClassifier(n_estimators=10)\n",
        "output_heat(rf)"
      ],
      "metadata": {
        "colab": {
          "base_uri": "https://localhost:8080/"
        },
        "id": "udpPu6WbBMRS",
        "outputId": "ebce6909-1e4b-4dbe-9ad3-7c40d8abce74"
      },
      "execution_count": 25,
      "outputs": [
        {
          "output_type": "stream",
          "name": "stdout",
          "text": [
            "Decision tree:\n",
            "[[53  2]\n",
            " [ 1 44]]\n",
            "Accuracy of classifier on test set:  0.97\n",
            "Error rate of classifier on test set:  0.030000000000000027\n",
            "Sensitivity of classifier on test set:  0.9565217391304348\n",
            "Specificity of classifier on test set:  0.9777777777777777\n",
            "Precision of classifier on test set:  0.9814814814814815\n",
            "Recall of classifier on test set:  0.9565217391304348\n",
            "F-score of classifier on test set:  0.9636363636363636\n",
            "\n",
            "\n",
            "Random Forest:\n",
            "[[54  1]\n",
            " [ 1 44]]\n",
            "Accuracy of classifier on test set:  0.98\n",
            "Error rate of classifier on test set:  0.020000000000000018\n",
            "Sensitivity of classifier on test set:  0.9777777777777777\n",
            "Specificity of classifier on test set:  0.9777777777777777\n",
            "Precision of classifier on test set:  0.9818181818181818\n",
            "Recall of classifier on test set:  0.9777777777777777\n",
            "F-score of classifier on test set:  0.9818181818181818\n",
            "\n",
            "\n"
          ]
        }
      ]
    },
    {
      "cell_type": "code",
      "source": [
        "from sklearn import svm\n",
        "from sklearn.neural_network import MLPClassifier\n",
        "\n",
        "# SVM\n",
        "print(\"Support Vector Machine:\")\n",
        "s_v_m = svm.SVC(max_iter=300)\n",
        "output_cool(s_v_m)\n",
        "\n",
        "# Neural Network\n",
        "print('Neural Network (multi-layer perceptron algorithm)')\n",
        "mlp = MLPClassifier()\n",
        "output_cool(mlp)"
      ],
      "metadata": {
        "colab": {
          "base_uri": "https://localhost:8080/"
        },
        "id": "lcv8J4ElV2N-",
        "outputId": "cd975e42-66ea-487e-a989-2bf76838a434"
      },
      "execution_count": 26,
      "outputs": [
        {
          "output_type": "stream",
          "name": "stdout",
          "text": [
            "Support Vector Machine:\n",
            "Accuracy of classifier on test set:  0.71\n",
            "Precision of classifier on test set:  0.7872340425531915\n",
            "Recall of classifier on test set:  1.0\n",
            "F-score of classifier on test set:  0.7100000000000001\n",
            "\n",
            "\n",
            "Neural Network (multi-layer perceptron algorithm)\n"
          ]
        },
        {
          "output_type": "stream",
          "name": "stderr",
          "text": [
            "/usr/local/lib/python3.7/dist-packages/sklearn/svm/_base.py:289: ConvergenceWarning: Solver terminated early (max_iter=300).  Consider pre-processing your data with StandardScaler or MinMaxScaler.\n",
            "  ConvergenceWarning,\n",
            "/usr/local/lib/python3.7/dist-packages/sklearn/metrics/_classification.py:1318: UndefinedMetricWarning: Precision and F-score are ill-defined and being set to 0.0 in labels with no predicted samples. Use `zero_division` parameter to control this behavior.\n",
            "  _warn_prf(average, modifier, msg_start, len(result))\n"
          ]
        },
        {
          "output_type": "stream",
          "name": "stdout",
          "text": [
            "Accuracy of classifier on test set:  0.75\n",
            "Precision of classifier on test set:  0.7872340425531915\n",
            "Recall of classifier on test set:  1.0\n",
            "F-score of classifier on test set:  0.75\n",
            "\n",
            "\n"
          ]
        },
        {
          "output_type": "stream",
          "name": "stderr",
          "text": [
            "/usr/local/lib/python3.7/dist-packages/sklearn/neural_network/_multilayer_perceptron.py:696: ConvergenceWarning: Stochastic Optimizer: Maximum iterations (200) reached and the optimization hasn't converged yet.\n",
            "  ConvergenceWarning,\n",
            "/usr/local/lib/python3.7/dist-packages/sklearn/base.py:566: FutureWarning: Arrays of bytes/strings is being converted to decimal numbers if dtype='numeric'. This behavior is deprecated in 0.24 and will be removed in 1.1 (renaming of 0.26). Please convert your data to numeric values explicitly instead.\n",
            "  X = check_array(X, **check_params)\n",
            "/usr/local/lib/python3.7/dist-packages/sklearn/metrics/_classification.py:1318: UndefinedMetricWarning: Precision and F-score are ill-defined and being set to 0.0 in labels with no predicted samples. Use `zero_division` parameter to control this behavior.\n",
            "  _warn_prf(average, modifier, msg_start, len(result))\n",
            "/usr/local/lib/python3.7/dist-packages/sklearn/base.py:566: FutureWarning: Arrays of bytes/strings is being converted to decimal numbers if dtype='numeric'. This behavior is deprecated in 0.24 and will be removed in 1.1 (renaming of 0.26). Please convert your data to numeric values explicitly instead.\n",
            "  X = check_array(X, **check_params)\n",
            "/usr/local/lib/python3.7/dist-packages/sklearn/base.py:566: FutureWarning: Arrays of bytes/strings is being converted to decimal numbers if dtype='numeric'. This behavior is deprecated in 0.24 and will be removed in 1.1 (renaming of 0.26). Please convert your data to numeric values explicitly instead.\n",
            "  X = check_array(X, **check_params)\n"
          ]
        }
      ]
    }
  ]
}